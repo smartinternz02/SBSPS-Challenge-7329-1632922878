{
  "nbformat": 4,
  "nbformat_minor": 0,
  "metadata": {
    "colab": {
      "name": "SDG 6  Clean water and sanitation.ipynb",
      "provenance": [],
      "collapsed_sections": [],
      "authorship_tag": "ABX9TyObt9zOpr2SOiAJB993MlJn",
      "include_colab_link": true
    },
    "kernelspec": {
      "name": "python3",
      "display_name": "Python 3"
    },
    "language_info": {
      "name": "python"
    }
  },
  "cells": [
    {
      "cell_type": "markdown",
      "metadata": {
        "id": "view-in-github",
        "colab_type": "text"
      },
      "source": [
        "<a href=\"https://colab.research.google.com/github/smartinternz02/SBSPS-Challenge-7329-1632922878/blob/main/SDG_6_Clean_water_and_sanitation.ipynb\" target=\"_parent\"><img src=\"https://colab.research.google.com/assets/colab-badge.svg\" alt=\"Open In Colab\"/></a>"
      ]
    },
    {
      "cell_type": "code",
      "metadata": {
        "colab": {
          "base_uri": "https://localhost:8080/",
          "height": 313
        },
        "id": "cbzPRrOE35Vz",
        "outputId": "d9a37fdb-3d62-47f4-ce09-e0785980c516"
      },
      "source": [
        "import numpy as np\n",
        "import pandas as pd\n",
        "import matplotlib.pyplot as plt\n",
        "import seaborn as sns\n",
        "df=pd.read_csv('Sanitation.csv')\n",
        "df.head()"
      ],
      "execution_count": null,
      "outputs": [
        {
          "output_type": "execute_result",
          "data": {
            "text/html": [
              "<div>\n",
              "<style scoped>\n",
              "    .dataframe tbody tr th:only-of-type {\n",
              "        vertical-align: middle;\n",
              "    }\n",
              "\n",
              "    .dataframe tbody tr th {\n",
              "        vertical-align: top;\n",
              "    }\n",
              "\n",
              "    .dataframe thead th {\n",
              "        text-align: right;\n",
              "    }\n",
              "</style>\n",
              "<table border=\"1\" class=\"dataframe\">\n",
              "  <thead>\n",
              "    <tr style=\"text-align: right;\">\n",
              "      <th></th>\n",
              "      <th>ULB Name</th>\n",
              "      <th>Public Toilets</th>\n",
              "      <th>Community Toilets</th>\n",
              "      <th>She Toilets</th>\n",
              "      <th>ODF Declared Wards</th>\n",
              "      <th>ODF Non Declared Wards</th>\n",
              "      <th>Compost Yard Location &amp; Extent (Acrs)</th>\n",
              "      <th>Dry Resourse Collection Center (Yes/No)</th>\n",
              "      <th>% of Door to Door Collection</th>\n",
              "      <th>Tractors</th>\n",
              "      <th>Autos</th>\n",
              "      <th>Tricycles</th>\n",
              "      <th>Pushcarts</th>\n",
              "      <th>Regular Workers</th>\n",
              "      <th>Out Sourced Workers</th>\n",
              "      <th>Government Hospitals</th>\n",
              "      <th>Private Hospitals</th>\n",
              "      <th>Urban Health Centres</th>\n",
              "      <th>Garbage generation/day (Mts)</th>\n",
              "      <th>Garbage lifted/day (Mts)</th>\n",
              "    </tr>\n",
              "  </thead>\n",
              "  <tbody>\n",
              "    <tr>\n",
              "      <th>0</th>\n",
              "      <td>Adilabad</td>\n",
              "      <td>8.0</td>\n",
              "      <td>NaN</td>\n",
              "      <td>NaN</td>\n",
              "      <td>36</td>\n",
              "      <td>0</td>\n",
              "      <td>36.20</td>\n",
              "      <td>YES</td>\n",
              "      <td>100.0</td>\n",
              "      <td>12</td>\n",
              "      <td>18</td>\n",
              "      <td>5</td>\n",
              "      <td>30</td>\n",
              "      <td>52</td>\n",
              "      <td>200</td>\n",
              "      <td>1</td>\n",
              "      <td>13</td>\n",
              "      <td>4</td>\n",
              "      <td>66.0</td>\n",
              "      <td>64.0</td>\n",
              "    </tr>\n",
              "    <tr>\n",
              "      <th>1</th>\n",
              "      <td>Andol-Jogipet</td>\n",
              "      <td>NaN</td>\n",
              "      <td>NaN</td>\n",
              "      <td>NaN</td>\n",
              "      <td>10</td>\n",
              "      <td>10</td>\n",
              "      <td>3.27</td>\n",
              "      <td>YES</td>\n",
              "      <td>89.0</td>\n",
              "      <td>1</td>\n",
              "      <td>0</td>\n",
              "      <td>12</td>\n",
              "      <td>3</td>\n",
              "      <td>11</td>\n",
              "      <td>37</td>\n",
              "      <td>1</td>\n",
              "      <td>5</td>\n",
              "      <td>0</td>\n",
              "      <td>4.7</td>\n",
              "      <td>3.9</td>\n",
              "    </tr>\n",
              "    <tr>\n",
              "      <th>2</th>\n",
              "      <td>Armoor</td>\n",
              "      <td>4.0</td>\n",
              "      <td>NaN</td>\n",
              "      <td>NaN</td>\n",
              "      <td>23</td>\n",
              "      <td>0</td>\n",
              "      <td>11.09</td>\n",
              "      <td>YES</td>\n",
              "      <td>100.0</td>\n",
              "      <td>5</td>\n",
              "      <td>10</td>\n",
              "      <td>0</td>\n",
              "      <td>0</td>\n",
              "      <td>17</td>\n",
              "      <td>67</td>\n",
              "      <td>1</td>\n",
              "      <td>25</td>\n",
              "      <td>0</td>\n",
              "      <td>32.0</td>\n",
              "      <td>30.0</td>\n",
              "    </tr>\n",
              "    <tr>\n",
              "      <th>3</th>\n",
              "      <td>Atchampet</td>\n",
              "      <td>NaN</td>\n",
              "      <td>NaN</td>\n",
              "      <td>NaN</td>\n",
              "      <td>20</td>\n",
              "      <td>0</td>\n",
              "      <td>0.00</td>\n",
              "      <td>NO</td>\n",
              "      <td>85.0</td>\n",
              "      <td>9</td>\n",
              "      <td>0</td>\n",
              "      <td>5</td>\n",
              "      <td>0</td>\n",
              "      <td>2</td>\n",
              "      <td>74</td>\n",
              "      <td>2</td>\n",
              "      <td>8</td>\n",
              "      <td>0</td>\n",
              "      <td>14.0</td>\n",
              "      <td>14.0</td>\n",
              "    </tr>\n",
              "    <tr>\n",
              "      <th>4</th>\n",
              "      <td>Badangpet</td>\n",
              "      <td>NaN</td>\n",
              "      <td>NaN</td>\n",
              "      <td>NaN</td>\n",
              "      <td>20</td>\n",
              "      <td>0</td>\n",
              "      <td>0.00</td>\n",
              "      <td>YES</td>\n",
              "      <td>100.0</td>\n",
              "      <td>4</td>\n",
              "      <td>30</td>\n",
              "      <td>15</td>\n",
              "      <td>0</td>\n",
              "      <td>0</td>\n",
              "      <td>168</td>\n",
              "      <td>1</td>\n",
              "      <td>3</td>\n",
              "      <td>0</td>\n",
              "      <td>28.0</td>\n",
              "      <td>28.0</td>\n",
              "    </tr>\n",
              "  </tbody>\n",
              "</table>\n",
              "</div>"
            ],
            "text/plain": [
              "        ULB Name  ...  Garbage lifted/day (Mts)\n",
              "0       Adilabad  ...                      64.0\n",
              "1  Andol-Jogipet  ...                       3.9\n",
              "2         Armoor  ...                      30.0\n",
              "3      Atchampet  ...                      14.0\n",
              "4      Badangpet  ...                      28.0\n",
              "\n",
              "[5 rows x 20 columns]"
            ]
          },
          "metadata": {},
          "execution_count": 34
        }
      ]
    },
    {
      "cell_type": "code",
      "metadata": {
        "colab": {
          "base_uri": "https://localhost:8080/"
        },
        "id": "QUhLx-Pp4VAT",
        "outputId": "064c5f82-c219-4511-87f1-2f6537d3ae15"
      },
      "source": [
        "df.info()"
      ],
      "execution_count": null,
      "outputs": [
        {
          "output_type": "stream",
          "name": "stdout",
          "text": [
            "<class 'pandas.core.frame.DataFrame'>\n",
            "RangeIndex: 72 entries, 0 to 71\n",
            "Data columns (total 20 columns):\n",
            " #   Column                                   Non-Null Count  Dtype  \n",
            "---  ------                                   --------------  -----  \n",
            " 0   ULB Name                                 72 non-null     object \n",
            " 1   Public Toilets                           31 non-null     float64\n",
            " 2   Community Toilets                        13 non-null     float64\n",
            " 3   She Toilets                              10 non-null     float64\n",
            " 4   ODF Declared Wards                       72 non-null     int64  \n",
            " 5   ODF Non Declared Wards                   72 non-null     int64  \n",
            " 6   Compost Yard Location & Extent (Acrs)    72 non-null     float64\n",
            " 7   Dry Resourse Collection Center (Yes/No)  60 non-null     object \n",
            " 8   % of Door to Door Collection             72 non-null     float64\n",
            " 9   Tractors                                 72 non-null     int64  \n",
            " 10  Autos                                    72 non-null     int64  \n",
            " 11  Tricycles                                72 non-null     int64  \n",
            " 12  Pushcarts                                72 non-null     int64  \n",
            " 13  Regular Workers                          72 non-null     int64  \n",
            " 14  Out Sourced Workers                      72 non-null     int64  \n",
            " 15  Government Hospitals                     72 non-null     int64  \n",
            " 16  Private Hospitals                        72 non-null     int64  \n",
            " 17  Urban Health Centres                     72 non-null     int64  \n",
            " 18  Garbage generation/day (Mts)             72 non-null     float64\n",
            " 19  Garbage lifted/day (Mts)                 72 non-null     float64\n",
            "dtypes: float64(7), int64(11), object(2)\n",
            "memory usage: 11.4+ KB\n"
          ]
        }
      ]
    },
    {
      "cell_type": "code",
      "metadata": {
        "colab": {
          "base_uri": "https://localhost:8080/"
        },
        "id": "u7EALvXb4bzw",
        "outputId": "02272b41-2ee5-4fc7-bd58-25f05f91412a"
      },
      "source": [
        "df.shape"
      ],
      "execution_count": null,
      "outputs": [
        {
          "output_type": "execute_result",
          "data": {
            "text/plain": [
              "(72, 20)"
            ]
          },
          "metadata": {},
          "execution_count": 3
        }
      ]
    },
    {
      "cell_type": "code",
      "metadata": {
        "colab": {
          "base_uri": "https://localhost:8080/"
        },
        "id": "nt0WpI2Y4fl6",
        "outputId": "3ee99ec7-b905-4c2b-cf8e-c03b5803ca3f"
      },
      "source": [
        "df.isnull().sum()"
      ],
      "execution_count": null,
      "outputs": [
        {
          "output_type": "execute_result",
          "data": {
            "text/plain": [
              "ULB Name                                    0\n",
              "Public Toilets                             41\n",
              "Community Toilets                          59\n",
              "She Toilets                                62\n",
              "ODF Declared Wards                          0\n",
              "ODF Non Declared Wards                      0\n",
              "Compost Yard Location & Extent (Acrs)       0\n",
              "Dry Resourse Collection Center (Yes/No)    12\n",
              "% of Door to Door Collection                0\n",
              "Tractors                                    0\n",
              "Autos                                       0\n",
              "Tricycles                                   0\n",
              "Pushcarts                                   0\n",
              "Regular Workers                             0\n",
              "Out Sourced Workers                         0\n",
              "Government Hospitals                        0\n",
              "Private Hospitals                           0\n",
              "Urban Health Centres                        0\n",
              "Garbage generation/day (Mts)                0\n",
              "Garbage lifted/day (Mts)                    0\n",
              "dtype: int64"
            ]
          },
          "metadata": {},
          "execution_count": 4
        }
      ]
    },
    {
      "cell_type": "code",
      "metadata": {
        "colab": {
          "base_uri": "https://localhost:8080/"
        },
        "id": "hJBCP8P05Al5",
        "outputId": "44550db9-6ca1-4abd-b088-ee7bf7a004e4"
      },
      "source": [
        "citynames=df['ULB Name'].unique()\n",
        "citynames"
      ],
      "execution_count": null,
      "outputs": [
        {
          "output_type": "execute_result",
          "data": {
            "text/plain": [
              "array(['Adilabad', 'Andol-Jogipet', 'Armoor', 'Atchampet', 'Badangpet',\n",
              "       'Badepally', 'Bellampalle', 'Bhainsa', 'Bhongir', 'Bhupalapally',\n",
              "       'Bodhan', 'Boduppal', 'Devarakonda', 'Dubbaka', 'Gadwal', 'Gajwel',\n",
              "       'Husnabad', 'Huzurabad', 'Huzurnagar', 'Ibrahimpatnam', 'Ieeja',\n",
              "       'Jagtial', 'Jammikunta', 'Jangoan', 'Jelpally', 'Jillelguda',\n",
              "       'Kagaznagar', 'Kalwakurthy', 'Kamareddy', 'Karimnagar', 'Khammam',\n",
              "       'Kodada', 'Kollapur', 'Korutla', 'Kothagudem', 'Madhira',\n",
              "       'Mahabubabad', 'Mahabubnagar', 'Mancherial', 'Mandamarri',\n",
              "       'Manuguru', 'Medak', 'Medchal', 'Meerpet', 'Metpally',\n",
              "       'Miryalaguda', 'Nagarkurnool', 'Nalgonda', 'Narasmpet',\n",
              "       'Narayanpet', 'Nirmal', 'Nizamabad', 'Palwancha', 'Parakala',\n",
              "       'Pedda Amberpet', 'Peddapalli', 'Peerzadiguda', 'Ramagundam',\n",
              "       'Sadasivpet', 'Sangareddy', 'Satupally', 'Shadnagar', 'Siddipet',\n",
              "       'Sircilla', 'Suryapet', 'Tandur', 'Vemulavada', 'Vikarabad',\n",
              "       'Wanaparthy', 'Warangal', 'Yellandu', 'Zaheerabad'], dtype=object)"
            ]
          },
          "metadata": {},
          "execution_count": 5
        }
      ]
    },
    {
      "cell_type": "code",
      "metadata": {
        "colab": {
          "base_uri": "https://localhost:8080/"
        },
        "id": "GSD3ymFM5wBK",
        "outputId": "56793d6c-c1fe-4eae-c394-480b596af867"
      },
      "source": [
        "len(df['ULB Name'].unique())"
      ],
      "execution_count": null,
      "outputs": [
        {
          "output_type": "execute_result",
          "data": {
            "text/plain": [
              "72"
            ]
          },
          "metadata": {},
          "execution_count": 6
        }
      ]
    },
    {
      "cell_type": "code",
      "metadata": {
        "colab": {
          "base_uri": "https://localhost:8080/"
        },
        "id": "9zXNpvT255p7",
        "outputId": "98655a28-e14c-4f94-e445-58acfab0c98b"
      },
      "source": [
        "df.groupby('ODF Declared Wards')['ODF Declared Wards'].count().sort_values(ascending=False)[:5]"
      ],
      "execution_count": null,
      "outputs": [
        {
          "output_type": "execute_result",
          "data": {
            "text/plain": [
              "ODF Declared Wards\n",
              "20    28\n",
              "23     6\n",
              "50     3\n",
              "34     3\n",
              "13     3\n",
              "Name: ODF Declared Wards, dtype: int64"
            ]
          },
          "metadata": {},
          "execution_count": 24
        }
      ]
    },
    {
      "cell_type": "code",
      "metadata": {
        "colab": {
          "base_uri": "https://localhost:8080/",
          "height": 354
        },
        "id": "rysARKob0MSA",
        "outputId": "c2f00552-49e1-4c88-f80d-2f1938bb9f25"
      },
      "source": [
        "df.groupby('ODF Declared Wards')['ODF Declared Wards'].count().sort_values(ascending=False)[:5].plot.bar(figsize=(5,5))"
      ],
      "execution_count": null,
      "outputs": [
        {
          "output_type": "execute_result",
          "data": {
            "text/plain": [
              "<matplotlib.axes._subplots.AxesSubplot at 0x7f60f3341e10>"
            ]
          },
          "metadata": {},
          "execution_count": 25
        },
        {
          "output_type": "display_data",
          "data": {
            "image/png": "[encoded data removed]",
            "text/plain": [
              "<Figure size 360x360 with 1 Axes>"
            ]
          },
          "metadata": {
            "needs_background": "light"
          }
        }
      ]
    },
    {
      "cell_type": "code",
      "metadata": {
        "colab": {
          "base_uri": "https://localhost:8080/",
          "height": 312
        },
        "id": "P2r4GCbyp4aH",
        "outputId": "537ff763-0217-4078-8be4-01aa70c4d1e5"
      },
      "source": [
        "fig,ax=plt.subplots()\n",
        "ax.scatter(df['Government Hospitals'],df['Urban Health Centres'])\n",
        "ax.set_title('Cities')\n",
        "ax.set_xlabel('Government Hospitals')\n",
        "ax.set_ylabel('Urban Health Centres')"
      ],
      "execution_count": null,
      "outputs": [
        {
          "output_type": "execute_result",
          "data": {
            "text/plain": [
              "Text(0, 0.5, 'Urban Health Centres')"
            ]
          },
          "metadata": {},
          "execution_count": 13
        },
        {
          "output_type": "display_data",
          "data": {
            "image/png": "[encoded data removed]",
            "text/plain": [
              "<Figure size 432x288 with 1 Axes>"
            ]
          },
          "metadata": {
            "needs_background": "light"
          }
        }
      ]
    },
    {
      "cell_type": "code",
      "metadata": {
        "colab": {
          "base_uri": "https://localhost:8080/",
          "height": 312
        },
        "id": "d8DDqg8nsBrN",
        "outputId": "8823bacb-d480-4181-8474-d7ec36f9c687"
      },
      "source": [
        "fig,ax=plt.subplots()\n",
        "ax.hist(df['Government Hospitals'])\n",
        "ax.set_title('Hospitals')\n",
        "ax.set_xlabel('Government Hospitals')\n",
        "ax.set_ylabel('frequency')"
      ],
      "execution_count": null,
      "outputs": [
        {
          "output_type": "execute_result",
          "data": {
            "text/plain": [
              "Text(0, 0.5, 'frequency')"
            ]
          },
          "metadata": {},
          "execution_count": 19
        },
        {
          "output_type": "display_data",
          "data": {
            "image/png": "[encoded data removed]",
            "text/plain": [
              "<Figure size 432x288 with 1 Axes>"
            ]
          },
          "metadata": {
            "needs_background": "light"
          }
        }
      ]
    },
    {
      "cell_type": "code",
      "metadata": {
        "colab": {
          "base_uri": "https://localhost:8080/",
          "height": 282
        },
        "id": "YM-r4IPhxBWk",
        "outputId": "556d39d5-d36c-408e-aebd-0bbf9e141e89"
      },
      "source": [
        "df['% of Door to Door Collection'].plot.hist()"
      ],
      "execution_count": null,
      "outputs": [
        {
          "output_type": "execute_result",
          "data": {
            "text/plain": [
              "<matplotlib.axes._subplots.AxesSubplot at 0x7f60f3412850>"
            ]
          },
          "metadata": {},
          "execution_count": 21
        },
        {
          "output_type": "display_data",
          "data": {
            "image/png": "[encoded data removed]",
            "text/plain": [
              "<Figure size 432x288 with 1 Axes>"
            ]
          },
          "metadata": {
            "needs_background": "light"
          }
        }
      ]
    },
    {
      "cell_type": "code",
      "metadata": {
        "id": "J1bh0hoL6Gmm"
      },
      "source": [
        "df['% of Door to Door Collection'].plot.hist()"
      ],
      "execution_count": null,
      "outputs": []
    },
    {
      "cell_type": "code",
      "metadata": {
        "colab": {
          "base_uri": "https://localhost:8080/",
          "height": 320
        },
        "id": "TFZbpcTBycKl",
        "outputId": "13f1aebf-34db-4c5b-8514-e2507af08b0f"
      },
      "source": [
        "hp=df[df['% of Door to Door Collection']>=80][:15]\n",
        "plt.rcParams['figure.figsize']=(25,7)\n",
        "ax=sns.barplot(x=hp['ULB Name'][:15],y=hp['% of Door to Door Collection'][:15])\n",
        "plt.show()"
      ],
      "execution_count": null,
      "outputs": [
        {
          "output_type": "display_data",
          "data": {
            "image/png": "[encoded data removed]",
            "text/plain": [
              "<Figure size 1800x504 with 1 Axes>"
            ]
          },
          "metadata": {
            "needs_background": "light"
          }
        }
      ]
    },
    {
      "cell_type": "code",
      "metadata": {
        "colab": {
          "base_uri": "https://localhost:8080/",
          "height": 320
        },
        "id": "hz6zc3d46eOt",
        "outputId": "9112b7da-146a-4020-e5be-e2449121042e"
      },
      "source": [
        "hp=dfhp=df.sort_values(by=['Tractors'],ascending=False)[:15]\n",
        "plt.rcParams['figure.figsize']=(25,7)\n",
        "ax=sns.barplot(x=hp['ULB Name'][:15],y=hp['Tractors'].sort_values(ascending=False)[:15])\n",
        "plt.show()"
      ],
      "execution_count": null,
      "outputs": [
        {
          "output_type": "display_data",
          "data": {
            "image/png": "[encoded data removed]",
            "text/plain": [
              "<Figure size 1800x504 with 1 Axes>"
            ]
          },
          "metadata": {
            "needs_background": "light"
          }
        }
      ]
    },
    {
      "cell_type": "code",
      "metadata": {
        "colab": {
          "base_uri": "https://localhost:8080/",
          "height": 322
        },
        "id": "nKpEzrSL647e",
        "outputId": "50e763e2-e76f-459f-a203-bbd1d1402e91"
      },
      "source": [
        "hp=df.sort_values(by=['Autos'],ascending=False)[:15]\n",
        "plt.rcParams['figure.figsize']=(25,7)\n",
        "ax=sns.barplot(x=hp['ULB Name'][:15],y=hp['Autos'][:15])\n",
        "plt.show()"
      ],
      "execution_count": null,
      "outputs": [
        {
          "output_type": "display_data",
          "data": {
            "image/png": "[encoded data removed]",
            "text/plain": [
              "<Figure size 1800x504 with 1 Axes>"
            ]
          },
          "metadata": {
            "needs_background": "light"
          }
        }
      ]
    },
    {
      "cell_type": "code",
      "metadata": {
        "colab": {
          "base_uri": "https://localhost:8080/",
          "height": 320
        },
        "id": "CsaGz1YO-Bym",
        "outputId": "d6cb8657-0d7d-4755-d21b-fa2e2d052ffe"
      },
      "source": [
        "hp=df.sort_values(by=['Tricycles'],ascending=False)[:15]\n",
        "plt.rcParams['figure.figsize']=(25,7)\n",
        "ax=sns.barplot(x=hp['ULB Name'][:15],y=hp['Tricycles'][:15])\n",
        "plt.show()"
      ],
      "execution_count": null,
      "outputs": [
        {
          "output_type": "display_data",
          "data": {
            "image/png": "[encoded data removed]",
            "text/plain": [
              "<Figure size 1800x504 with 1 Axes>"
            ]
          },
          "metadata": {
            "needs_background": "light"
          }
        }
      ]
    },
    {
      "cell_type": "code",
      "metadata": {
        "colab": {
          "base_uri": "https://localhost:8080/",
          "height": 530
        },
        "id": "rOz0R3ChBneh",
        "outputId": "b327b801-5081-4eb3-faac-227264e44d05"
      },
      "source": [
        "df.dropna(axis=0,how='all',inplace=False)"
      ],
      "execution_count": null,
      "outputs": [
        {
          "output_type": "execute_result",
          "data": {
            "text/html": [
              "<div>\n",
              "<style scoped>\n",
              "    .dataframe tbody tr th:only-of-type {\n",
              "        vertical-align: middle;\n",
              "    }\n",
              "\n",
              "    .dataframe tbody tr th {\n",
              "        vertical-align: top;\n",
              "    }\n",
              "\n",
              "    .dataframe thead th {\n",
              "        text-align: right;\n",
              "    }\n",
              "</style>\n",
              "<table border=\"1\" class=\"dataframe\">\n",
              "  <thead>\n",
              "    <tr style=\"text-align: right;\">\n",
              "      <th></th>\n",
              "      <th>ULB Name</th>\n",
              "      <th>Public Toilets</th>\n",
              "      <th>Community Toilets</th>\n",
              "      <th>She Toilets</th>\n",
              "      <th>ODF Declared Wards</th>\n",
              "      <th>ODF Non Declared Wards</th>\n",
              "      <th>Compost Yard Location &amp; Extent (Acrs)</th>\n",
              "      <th>Dry Resourse Collection Center (Yes/No)</th>\n",
              "      <th>% of Door to Door Collection</th>\n",
              "      <th>Tractors</th>\n",
              "      <th>Autos</th>\n",
              "      <th>Tricycles</th>\n",
              "      <th>Pushcarts</th>\n",
              "      <th>Regular Workers</th>\n",
              "      <th>Out Sourced Workers</th>\n",
              "      <th>Government Hospitals</th>\n",
              "      <th>Private Hospitals</th>\n",
              "      <th>Urban Health Centres</th>\n",
              "      <th>Garbage generation/day (Mts)</th>\n",
              "      <th>Garbage lifted/day (Mts)</th>\n",
              "    </tr>\n",
              "  </thead>\n",
              "  <tbody>\n",
              "    <tr>\n",
              "      <th>0</th>\n",
              "      <td>Adilabad</td>\n",
              "      <td>8.0</td>\n",
              "      <td>NaN</td>\n",
              "      <td>NaN</td>\n",
              "      <td>36</td>\n",
              "      <td>0</td>\n",
              "      <td>36.20</td>\n",
              "      <td>YES</td>\n",
              "      <td>100.0</td>\n",
              "      <td>12</td>\n",
              "      <td>18</td>\n",
              "      <td>5</td>\n",
              "      <td>30</td>\n",
              "      <td>52</td>\n",
              "      <td>200</td>\n",
              "      <td>1</td>\n",
              "      <td>13</td>\n",
              "      <td>4</td>\n",
              "      <td>66.0</td>\n",
              "      <td>64.0</td>\n",
              "    </tr>\n",
              "    <tr>\n",
              "      <th>1</th>\n",
              "      <td>Andol-Jogipet</td>\n",
              "      <td>NaN</td>\n",
              "      <td>NaN</td>\n",
              "      <td>NaN</td>\n",
              "      <td>10</td>\n",
              "      <td>10</td>\n",
              "      <td>3.27</td>\n",
              "      <td>YES</td>\n",
              "      <td>89.0</td>\n",
              "      <td>1</td>\n",
              "      <td>0</td>\n",
              "      <td>12</td>\n",
              "      <td>3</td>\n",
              "      <td>11</td>\n",
              "      <td>37</td>\n",
              "      <td>1</td>\n",
              "      <td>5</td>\n",
              "      <td>0</td>\n",
              "      <td>4.7</td>\n",
              "      <td>3.9</td>\n",
              "    </tr>\n",
              "    <tr>\n",
              "      <th>2</th>\n",
              "      <td>Armoor</td>\n",
              "      <td>4.0</td>\n",
              "      <td>NaN</td>\n",
              "      <td>NaN</td>\n",
              "      <td>23</td>\n",
              "      <td>0</td>\n",
              "      <td>11.09</td>\n",
              "      <td>YES</td>\n",
              "      <td>100.0</td>\n",
              "      <td>5</td>\n",
              "      <td>10</td>\n",
              "      <td>0</td>\n",
              "      <td>0</td>\n",
              "      <td>17</td>\n",
              "      <td>67</td>\n",
              "      <td>1</td>\n",
              "      <td>25</td>\n",
              "      <td>0</td>\n",
              "      <td>32.0</td>\n",
              "      <td>30.0</td>\n",
              "    </tr>\n",
              "    <tr>\n",
              "      <th>3</th>\n",
              "      <td>Atchampet</td>\n",
              "      <td>NaN</td>\n",
              "      <td>NaN</td>\n",
              "      <td>NaN</td>\n",
              "      <td>20</td>\n",
              "      <td>0</td>\n",
              "      <td>0.00</td>\n",
              "      <td>NO</td>\n",
              "      <td>85.0</td>\n",
              "      <td>9</td>\n",
              "      <td>0</td>\n",
              "      <td>5</td>\n",
              "      <td>0</td>\n",
              "      <td>2</td>\n",
              "      <td>74</td>\n",
              "      <td>2</td>\n",
              "      <td>8</td>\n",
              "      <td>0</td>\n",
              "      <td>14.0</td>\n",
              "      <td>14.0</td>\n",
              "    </tr>\n",
              "    <tr>\n",
              "      <th>4</th>\n",
              "      <td>Badangpet</td>\n",
              "      <td>NaN</td>\n",
              "      <td>NaN</td>\n",
              "      <td>NaN</td>\n",
              "      <td>20</td>\n",
              "      <td>0</td>\n",
              "      <td>0.00</td>\n",
              "      <td>YES</td>\n",
              "      <td>100.0</td>\n",
              "      <td>4</td>\n",
              "      <td>30</td>\n",
              "      <td>15</td>\n",
              "      <td>0</td>\n",
              "      <td>0</td>\n",
              "      <td>168</td>\n",
              "      <td>1</td>\n",
              "      <td>3</td>\n",
              "      <td>0</td>\n",
              "      <td>28.0</td>\n",
              "      <td>28.0</td>\n",
              "    </tr>\n",
              "    <tr>\n",
              "      <th>...</th>\n",
              "      <td>...</td>\n",
              "      <td>...</td>\n",
              "      <td>...</td>\n",
              "      <td>...</td>\n",
              "      <td>...</td>\n",
              "      <td>...</td>\n",
              "      <td>...</td>\n",
              "      <td>...</td>\n",
              "      <td>...</td>\n",
              "      <td>...</td>\n",
              "      <td>...</td>\n",
              "      <td>...</td>\n",
              "      <td>...</td>\n",
              "      <td>...</td>\n",
              "      <td>...</td>\n",
              "      <td>...</td>\n",
              "      <td>...</td>\n",
              "      <td>...</td>\n",
              "      <td>...</td>\n",
              "      <td>...</td>\n",
              "    </tr>\n",
              "    <tr>\n",
              "      <th>67</th>\n",
              "      <td>Vikarabad</td>\n",
              "      <td>3.0</td>\n",
              "      <td>NaN</td>\n",
              "      <td>NaN</td>\n",
              "      <td>28</td>\n",
              "      <td>0</td>\n",
              "      <td>10.01</td>\n",
              "      <td>YES</td>\n",
              "      <td>95.0</td>\n",
              "      <td>3</td>\n",
              "      <td>11</td>\n",
              "      <td>0</td>\n",
              "      <td>0</td>\n",
              "      <td>23</td>\n",
              "      <td>105</td>\n",
              "      <td>3</td>\n",
              "      <td>17</td>\n",
              "      <td>0</td>\n",
              "      <td>25.0</td>\n",
              "      <td>25.0</td>\n",
              "    </tr>\n",
              "    <tr>\n",
              "      <th>68</th>\n",
              "      <td>Wanaparthy</td>\n",
              "      <td>NaN</td>\n",
              "      <td>NaN</td>\n",
              "      <td>NaN</td>\n",
              "      <td>13</td>\n",
              "      <td>13</td>\n",
              "      <td>0.00</td>\n",
              "      <td>NO</td>\n",
              "      <td>84.0</td>\n",
              "      <td>11</td>\n",
              "      <td>0</td>\n",
              "      <td>0</td>\n",
              "      <td>2</td>\n",
              "      <td>17</td>\n",
              "      <td>110</td>\n",
              "      <td>1</td>\n",
              "      <td>8</td>\n",
              "      <td>2</td>\n",
              "      <td>32.0</td>\n",
              "      <td>32.0</td>\n",
              "    </tr>\n",
              "    <tr>\n",
              "      <th>69</th>\n",
              "      <td>Warangal</td>\n",
              "      <td>1.0</td>\n",
              "      <td>NaN</td>\n",
              "      <td>NaN</td>\n",
              "      <td>0</td>\n",
              "      <td>58</td>\n",
              "      <td>0.00</td>\n",
              "      <td>NaN</td>\n",
              "      <td>0.0</td>\n",
              "      <td>0</td>\n",
              "      <td>0</td>\n",
              "      <td>0</td>\n",
              "      <td>0</td>\n",
              "      <td>0</td>\n",
              "      <td>0</td>\n",
              "      <td>0</td>\n",
              "      <td>0</td>\n",
              "      <td>0</td>\n",
              "      <td>0.0</td>\n",
              "      <td>0.0</td>\n",
              "    </tr>\n",
              "    <tr>\n",
              "      <th>70</th>\n",
              "      <td>Yellandu</td>\n",
              "      <td>NaN</td>\n",
              "      <td>NaN</td>\n",
              "      <td>NaN</td>\n",
              "      <td>22</td>\n",
              "      <td>2</td>\n",
              "      <td>5.00</td>\n",
              "      <td>NO</td>\n",
              "      <td>89.0</td>\n",
              "      <td>4</td>\n",
              "      <td>2</td>\n",
              "      <td>8</td>\n",
              "      <td>24</td>\n",
              "      <td>34</td>\n",
              "      <td>56</td>\n",
              "      <td>1</td>\n",
              "      <td>5</td>\n",
              "      <td>0</td>\n",
              "      <td>32.0</td>\n",
              "      <td>30.0</td>\n",
              "    </tr>\n",
              "    <tr>\n",
              "      <th>71</th>\n",
              "      <td>Zaheerabad</td>\n",
              "      <td>NaN</td>\n",
              "      <td>NaN</td>\n",
              "      <td>NaN</td>\n",
              "      <td>24</td>\n",
              "      <td>0</td>\n",
              "      <td>5.00</td>\n",
              "      <td>NO</td>\n",
              "      <td>95.0</td>\n",
              "      <td>3</td>\n",
              "      <td>4</td>\n",
              "      <td>15</td>\n",
              "      <td>0</td>\n",
              "      <td>34</td>\n",
              "      <td>99</td>\n",
              "      <td>1</td>\n",
              "      <td>13</td>\n",
              "      <td>0</td>\n",
              "      <td>32.0</td>\n",
              "      <td>32.0</td>\n",
              "    </tr>\n",
              "  </tbody>\n",
              "</table>\n",
              "<p>72 rows × 20 columns</p>\n",
              "</div>"
            ],
            "text/plain": [
              "         ULB Name  ...  Garbage lifted/day (Mts)\n",
              "0        Adilabad  ...                      64.0\n",
              "1   Andol-Jogipet  ...                       3.9\n",
              "2          Armoor  ...                      30.0\n",
              "3       Atchampet  ...                      14.0\n",
              "4       Badangpet  ...                      28.0\n",
              "..            ...  ...                       ...\n",
              "67      Vikarabad  ...                      25.0\n",
              "68     Wanaparthy  ...                      32.0\n",
              "69       Warangal  ...                       0.0\n",
              "70       Yellandu  ...                      30.0\n",
              "71     Zaheerabad  ...                      32.0\n",
              "\n",
              "[72 rows x 20 columns]"
            ]
          },
          "metadata": {},
          "execution_count": 75
        }
      ]
    },
    {
      "cell_type": "code",
      "metadata": {
        "colab": {
          "base_uri": "https://localhost:8080/",
          "height": 322
        },
        "id": "v-S2KVNB-J45",
        "outputId": "eccc8927-3813-485e-e9c7-42457a7b06d5"
      },
      "source": [
        "hp=df.sort_values(by=['Pushcarts'],ascending=False)[:15]\n",
        "plt.rcParams['figure.figsize']=(25,7)\n",
        "ax=sns.barplot(x=hp['ULB Name'][:15],y=hp['Pushcarts'][:15])\n",
        "plt.show()"
      ],
      "execution_count": null,
      "outputs": [
        {
          "output_type": "display_data",
          "data": {
            "image/png": "[encoded data removed]",
            "text/plain": [
              "<Figure size 1800x504 with 1 Axes>"
            ]
          },
          "metadata": {
            "needs_background": "light"
          }
        }
      ]
    },
    {
      "cell_type": "code",
      "metadata": {
        "colab": {
          "base_uri": "https://localhost:8080/",
          "height": 322
        },
        "id": "Uz4BivyUBmN1",
        "outputId": "4f0231f8-2ac0-49c4-9e22-65de3f1a0657"
      },
      "source": [
        "hp=df.sort_values(by=['Public Toilets'],ascending=False)[:15]\n",
        "plt.rcParams['figure.figsize']=(25,7)\n",
        "ax=sns.barplot(x=hp['ULB Name'][:15],y=hp['Public Toilets'][:10])\n",
        "plt.show()"
      ],
      "execution_count": null,
      "outputs": [
        {
          "output_type": "display_data",
          "data": {
            "image/png": "[encoded data removed]",
            "text/plain": [
              "<Figure size 1800x504 with 1 Axes>"
            ]
          },
          "metadata": {
            "needs_background": "light"
          }
        }
      ]
    },
    {
      "cell_type": "code",
      "metadata": {
        "colab": {
          "base_uri": "https://localhost:8080/",
          "height": 316
        },
        "id": "kk0kVQ7TEwfi",
        "outputId": "2c0c8aa3-43e2-4bbf-b65f-151e3410be0b"
      },
      "source": [
        "df=df['Regular Workers'][:10]\n",
        "ax=df.plot.barh(y='Regular Workers')"
      ],
      "execution_count": null,
      "outputs": [
        {
          "output_type": "display_data",
          "data": {
            "image/png": "[encoded data removed]",
            "text/plain": [
              "<Figure size 1800x504 with 1 Axes>"
            ]
          },
          "metadata": {
            "needs_background": "light"
          }
        }
      ]
    }
  ]
}